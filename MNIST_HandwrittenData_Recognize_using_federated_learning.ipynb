{
  "cells": [
    {
      "cell_type": "code",
      "source": [
        "# imports for array-handling and plotting\n",
        "import numpy as np\n",
        "import matplotlib\n",
        "matplotlib.use('agg')\n",
        "import matplotlib.pyplot as plt\n",
        "\n",
        "# let's keep our keras backend tensorflow quiet\n",
        "import os\n",
        "os.environ['TF_CPP_MIN_LOG_LEVEL']='3'\n",
        "# for testing on CPU\n",
        "#os.environ['CUDA_VISIBLE_DEVICES'] = ''\n",
        "\n",
        "# keras imports for the dataset and building our neural network\n",
        "from keras.datasets import mnist\n",
        "from keras.models import Sequential, load_model\n",
        "from keras.layers.core import Dense, Dropout, Activation\n",
        "from keras.utils import np_utils"
      ],
      "metadata": {
        "id": "HbQKOMz-aoCT"
      },
      "execution_count": null,
      "outputs": []
    },
    {
      "cell_type": "code",
      "source": [
        "(X_train, y_train), (X_test, y_test) = mnist.load_data()"
      ],
      "metadata": {
        "id": "73Mu9fK2dvXa"
      },
      "execution_count": null,
      "outputs": []
    },
    {
      "cell_type": "code",
      "source": [
        "fig = plt.figure()\n",
        "for i in range(9):\n",
        "  plt.subplot(3,3,i+1)\n",
        "  plt.tight_layout()\n",
        "  plt.imshow(X_train[i], cmap='gray', interpolation='none')\n",
        "  plt.title(\"Digit: {}\".format(y_train[i]))\n",
        "  plt.xticks([])\n",
        "  plt.yticks([])\n",
        "fig"
      ],
      "metadata": {
        "colab": {
          "base_uri": "https://localhost:8080/",
          "height": 284
        },
        "id": "k6phXHqJdyAQ",
        "outputId": "38ee8f8a-e269-4901-f9a1-0150d101c538"
      },
      "execution_count": null,
      "outputs": [
        {
          "output_type": "execute_result",
          "data": {
            "text/plain": [
              "<Figure size 432x288 with 9 Axes>"
            ],
            "image/png": "[encoded data removed]"
          },
          "metadata": {},
          "execution_count": 39
        }
      ]
    },
    {
      "cell_type": "code",
      "source": [
        "fig = plt.figure()\n",
        "plt.subplot(2,1,1)\n",
        "plt.imshow(X_train[0], cmap='gray', interpolation='none')\n",
        "plt.title(\"Digit: {}\".format(y_train[0]))\n",
        "plt.xticks([])\n",
        "plt.yticks([])\n",
        "plt.subplot(2,1,2)\n",
        "plt.hist(X_train[0].reshape(784))\n",
        "plt.title(\"Pixel Value Distribution\")\n",
        "fig"
      ],
      "metadata": {
        "colab": {
          "base_uri": "https://localhost:8080/",
          "height": 281
        },
        "id": "inXEPHWHd1a2",
        "outputId": "22adcdf3-d14e-4ec7-d5e4-c10679d59eb2"
      },
      "execution_count": null,
      "outputs": [
        {
          "output_type": "execute_result",
          "data": {
            "text/plain": [
              "<Figure size 432x288 with 2 Axes>"
            ],
            "image/png": "[encoded data removed]"
          },
          "metadata": {},
          "execution_count": 40
        }
      ]
    },
    {
      "cell_type": "code",
      "source": [
        "# let's print the shape before we reshape and normalize\n",
        "print(\"X_train shape\", X_train.shape)\n",
        "print(\"y_train shape\", y_train.shape)\n",
        "print(\"X_test shape\", X_test.shape)\n",
        "print(\"y_test shape\", y_test.shape)\n",
        "\n",
        "# building the input vector from the 28x28 pixels\n",
        "X_train = X_train.reshape(60000, 784)\n",
        "X_test = X_test.reshape(10000, 784)\n",
        "X_train = X_train.astype('float32')\n",
        "X_test = X_test.astype('float32')\n",
        "\n",
        "# normalizing the data to help with the training\n",
        "X_train /= 255\n",
        "X_test /= 255\n",
        "\n",
        "# print the final input shape ready for training\n",
        "print(\"Train matrix shape\", X_train.shape)\n",
        "print(\"Test matrix shape\", X_test.shape)"
      ],
      "metadata": {
        "colab": {
          "base_uri": "https://localhost:8080/"
        },
        "id": "wfW6cAfYd9Yf",
        "outputId": "c4acb730-0bd3-4c50-df56-448a95e09453"
      },
      "execution_count": null,
      "outputs": [
        {
          "output_type": "stream",
          "name": "stdout",
          "text": [
            "X_train shape (60000, 28, 28)\n",
            "y_train shape (60000,)\n",
            "X_test shape (10000, 28, 28)\n",
            "y_test shape (10000,)\n",
            "Train matrix shape (60000, 784)\n",
            "Test matrix shape (10000, 784)\n"
          ]
        }
      ]
    },
    {
      "cell_type": "code",
      "source": [
        "print(np.unique(y_train, return_counts=True))"
      ],
      "metadata": {
        "colab": {
          "base_uri": "https://localhost:8080/"
        },
        "id": "ROtmjWczeJ20",
        "outputId": "c927cbe9-f4af-46a7-a59c-f430aa428ab0"
      },
      "execution_count": null,
      "outputs": [
        {
          "output_type": "stream",
          "name": "stdout",
          "text": [
            "(array([0, 1, 2, 3, 4, 5, 6, 7, 8, 9], dtype=uint8), array([5923, 6742, 5958, 6131, 5842, 5421, 5918, 6265, 5851, 5949]))\n"
          ]
        }
      ]
    },
    {
      "cell_type": "code",
      "source": [
        "# one-hot encoding using keras' numpy-related utilities\n",
        "n_classes = 10\n",
        "print(\"Shape before one-hot encoding: \", y_train.shape)\n",
        "Y_train = np_utils.to_categorical(y_train, n_classes)\n",
        "Y_test = np_utils.to_categorical(y_test, n_classes)\n",
        "print(\"Shape after one-hot encoding: \", Y_train.shape)"
      ],
      "metadata": {
        "colab": {
          "base_uri": "https://localhost:8080/"
        },
        "id": "I8PJfC1eeM79",
        "outputId": "baac7911-25f6-4ca5-d60e-2e250ca2b6d1"
      },
      "execution_count": null,
      "outputs": [
        {
          "output_type": "stream",
          "name": "stdout",
          "text": [
            "Shape before one-hot encoding:  (60000,)\n",
            "Shape after one-hot encoding:  (60000, 10)\n"
          ]
        }
      ]
    },
    {
      "cell_type": "code",
      "source": [
        "# building a linear stack of layers with the sequential model\n",
        "model = Sequential()\n",
        "model.add(Dense(512, input_shape=(784,)))\n",
        "model.add(Activation('relu'))                            \n",
        "model.add(Dropout(0.2))\n",
        "\n",
        "model.add(Dense(512))\n",
        "model.add(Activation('relu'))\n",
        "model.add(Dropout(0.2))\n",
        "\n",
        "model.add(Dense(10))\n",
        "model.add(Activation('softmax'))"
      ],
      "metadata": {
        "id": "VIjYEfAueSDt"
      },
      "execution_count": null,
      "outputs": []
    },
    {
      "cell_type": "code",
      "source": [
        "# compiling the sequential model\n",
        "model.compile(loss='categorical_crossentropy', metrics=['accuracy'], optimizer='adam')"
      ],
      "metadata": {
        "id": "ZWEDhOx7eYc1"
      },
      "execution_count": null,
      "outputs": []
    },
    {
      "cell_type": "code",
      "source": [
        "# training the model and saving metrics in history\n",
        "history = model.fit(X_train, Y_train,\n",
        "          batch_size=128, epochs=20,\n",
        "          verbose=2,\n",
        "          validation_data=(X_test, Y_test))\n",
        "\n",
        "# saving the model\n",
        "save_dir = \"/results/\"\n",
        "model_name = 'keras_mnist.h5'\n",
        "model_path = os.path.join(save_dir, model_name)\n",
        "model.save(model_path)\n",
        "print('Saved trained model at %s ' % model_path)\n",
        "\n",
        "# plotting the metrics\n",
        "fig = plt.figure()\n",
        "plt.subplot(2,1,1)\n",
        "#plt.plot(history.history['acc'])\n",
        "#plt.plot(history.history['val_acc'])\n",
        "plt.title('model accuracy')\n",
        "plt.ylabel('accuracy')\n",
        "plt.xlabel('epoch')\n",
        "plt.legend(['train', 'test'], loc='lower right')\n",
        "\n",
        "plt.subplot(2,1,2)\n",
        "plt.plot(history.history['loss'])\n",
        "plt.plot(history.history['val_loss'])\n",
        "plt.title('model loss')\n",
        "plt.ylabel('loss')\n",
        "plt.xlabel('epoch')\n",
        "plt.legend(['train', 'test'], loc='upper right')\n",
        "\n",
        "plt.tight_layout()\n",
        "\n",
        "fig"
      ],
      "metadata": {
        "colab": {
          "base_uri": "https://localhost:8080/",
          "height": 1000
        },
        "id": "aPBboPOjeed1",
        "outputId": "98bf59b8-2bf1-42cb-f491-995fa5d674bc"
      },
      "execution_count": null,
      "outputs": [
        {
          "output_type": "stream",
          "name": "stdout",
          "text": [
            "Epoch 1/20\n",
            "469/469 - 11s - loss: 0.0136 - accuracy: 0.9955 - val_loss: 0.0851 - val_accuracy: 0.9830 - 11s/epoch - 23ms/step\n",
            "Epoch 2/20\n",
            "469/469 - 9s - loss: 0.0159 - accuracy: 0.9950 - val_loss: 0.0887 - val_accuracy: 0.9817 - 9s/epoch - 19ms/step\n",
            "Epoch 3/20\n",
            "469/469 - 10s - loss: 0.0164 - accuracy: 0.9951 - val_loss: 0.0858 - val_accuracy: 0.9849 - 10s/epoch - 22ms/step\n",
            "Epoch 4/20\n",
            "469/469 - 10s - loss: 0.0124 - accuracy: 0.9959 - val_loss: 0.0917 - val_accuracy: 0.9838 - 10s/epoch - 21ms/step\n",
            "Epoch 5/20\n",
            "469/469 - 10s - loss: 0.0129 - accuracy: 0.9956 - val_loss: 0.0865 - val_accuracy: 0.9847 - 10s/epoch - 21ms/step\n",
            "Epoch 6/20\n",
            "469/469 - 9s - loss: 0.0127 - accuracy: 0.9959 - val_loss: 0.0825 - val_accuracy: 0.9839 - 9s/epoch - 18ms/step\n",
            "Epoch 7/20\n",
            "469/469 - 10s - loss: 0.0109 - accuracy: 0.9966 - val_loss: 0.1017 - val_accuracy: 0.9826 - 10s/epoch - 21ms/step\n",
            "Epoch 8/20\n",
            "469/469 - 10s - loss: 0.0152 - accuracy: 0.9955 - val_loss: 0.0956 - val_accuracy: 0.9831 - 10s/epoch - 22ms/step\n",
            "Epoch 9/20\n",
            "469/469 - 10s - loss: 0.0095 - accuracy: 0.9970 - val_loss: 0.0820 - val_accuracy: 0.9850 - 10s/epoch - 21ms/step\n",
            "Epoch 10/20\n",
            "469/469 - 9s - loss: 0.0127 - accuracy: 0.9959 - val_loss: 0.0898 - val_accuracy: 0.9826 - 9s/epoch - 19ms/step\n",
            "Epoch 11/20\n",
            "469/469 - 11s - loss: 0.0116 - accuracy: 0.9959 - val_loss: 0.0784 - val_accuracy: 0.9842 - 11s/epoch - 24ms/step\n",
            "Epoch 12/20\n",
            "469/469 - 10s - loss: 0.0126 - accuracy: 0.9962 - val_loss: 0.0792 - val_accuracy: 0.9848 - 10s/epoch - 22ms/step\n",
            "Epoch 13/20\n",
            "469/469 - 10s - loss: 0.0089 - accuracy: 0.9973 - val_loss: 0.0970 - val_accuracy: 0.9834 - 10s/epoch - 22ms/step\n",
            "Epoch 14/20\n",
            "469/469 - 9s - loss: 0.0126 - accuracy: 0.9960 - val_loss: 0.0858 - val_accuracy: 0.9845 - 9s/epoch - 19ms/step\n",
            "Epoch 15/20\n",
            "469/469 - 10s - loss: 0.0106 - accuracy: 0.9966 - val_loss: 0.1016 - val_accuracy: 0.9836 - 10s/epoch - 21ms/step\n",
            "Epoch 16/20\n",
            "469/469 - 11s - loss: 0.0132 - accuracy: 0.9960 - val_loss: 0.0892 - val_accuracy: 0.9828 - 11s/epoch - 24ms/step\n",
            "Epoch 17/20\n",
            "469/469 - 10s - loss: 0.0103 - accuracy: 0.9966 - val_loss: 0.0816 - val_accuracy: 0.9850 - 10s/epoch - 21ms/step\n",
            "Epoch 18/20\n",
            "469/469 - 9s - loss: 0.0104 - accuracy: 0.9965 - val_loss: 0.0973 - val_accuracy: 0.9840 - 9s/epoch - 20ms/step\n",
            "Epoch 19/20\n",
            "469/469 - 9s - loss: 0.0091 - accuracy: 0.9972 - val_loss: 0.1024 - val_accuracy: 0.9831 - 9s/epoch - 19ms/step\n",
            "Epoch 20/20\n",
            "469/469 - 10s - loss: 0.0107 - accuracy: 0.9971 - val_loss: 0.0965 - val_accuracy: 0.9841 - 10s/epoch - 21ms/step\n",
            "Saved trained model at /results/keras_mnist.h5 \n"
          ]
        },
        {
          "output_type": "execute_result",
          "data": {
            "text/plain": [
              "<Figure size 432x288 with 2 Axes>"
            ],
            "image/png": "[encoded data removed]"
          },
          "metadata": {},
          "execution_count": 48
        }
      ]
    },
    {
      "cell_type": "code",
      "source": [
        "mnist_model = load_model('keras_mnist.h5')\n",
        "loss_and_metrics = mnist_model.evaluate(X_test, Y_test, verbose=2)\n",
        "\n",
        "print(\"Test Loss\", loss_and_metrics[0])\n",
        "print(\"Test Accuracy\", loss_and_metrics[1])"
      ],
      "metadata": {
        "colab": {
          "base_uri": "https://localhost:8080/"
        },
        "id": "tTqn8U8hepvN",
        "outputId": "f327a015-9a71-4d50-cc63-6c6cd7abd47b"
      },
      "execution_count": null,
      "outputs": [
        {
          "output_type": "stream",
          "name": "stdout",
          "text": [
            "313/313 - 2s - loss: 0.0745 - accuracy: 0.9822 - 2s/epoch - 6ms/step\n",
            "Test Loss 0.07445215433835983\n",
            "Test Accuracy 0.982200026512146\n"
          ]
        }
      ]
    }
  ],
  "metadata": {
    "colab": {
      "provenance": []
    },
    "kernelspec": {
      "display_name": "Python 3",
      "name": "python3"
    },
    "language_info": {
      "name": "python"
    }
  },
  "nbformat": 4,
  "nbformat_minor": 0
}